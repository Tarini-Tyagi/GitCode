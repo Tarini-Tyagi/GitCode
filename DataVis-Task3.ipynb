{
 "cells": [
  {
   "cell_type": "code",
   "execution_count": 1,
   "metadata": {},
   "outputs": [],
   "source": [
    "import pandas as pd\n",
    "import matplotlib.pyplot as plt"
   ]
  },
  {
   "cell_type": "code",
   "execution_count": 2,
   "metadata": {},
   "outputs": [],
   "source": [
    "df = pd.read_csv('bank.csv')\n",
    "#df"
   ]
  },
  {
   "cell_type": "code",
   "execution_count": null,
   "metadata": {},
   "outputs": [],
   "source": [
    "plt.title('Data from the CSV File: People and Score')\n",
    "x = df['Surname']\n",
    "y = df['CreditScore']\n",
    "plt.xlabel(' People')\n",
    "plt.ylabel('Expenses')\n",
    "#creating a scatter plot\n",
    "plt.scatter(x,y)\n",
    "plt.show()"
   ]
  },
  {
   "cell_type": "code",
   "execution_count": null,
   "metadata": {},
   "outputs": [],
   "source": [
    "df.head(10).plot.barh('Geography','Age')  #creating a bar pyplot\n",
    "#creating a pie chart\n",
    "\n",
    "\n",
    "data_pie=df.groupby('Geography').NumOfProducts.count()\n",
    "plt.pie(np.array(data_pie),labels=('france','spain','Germany'),explode=(0.05,0.05,0.05),shadow=True,autopct='%d%%')\n",
    "\n",
    "\n",
    "#creating a boxplot\n",
    "df.tail(10).boxplot(column=\"EstimatedSalary\",by='Geography')\n",
    "\n",
    "#creating a kernal density graph\n",
    "df.head(50).CreditScore.plot(kind='kde')  #kernal density curve"
   ]
  },
  {
   "cell_type": "code",
   "execution_count": null,
   "metadata": {},
   "outputs": [],
   "source": []
  }
 ],
 "metadata": {
  "kernelspec": {
   "display_name": "Python 3",
   "language": "python",
   "name": "python3"
  },
  "language_info": {
   "codemirror_mode": {
    "name": "ipython",
    "version": 3
   },
   "file_extension": ".py",
   "mimetype": "text/x-python",
   "name": "python",
   "nbconvert_exporter": "python",
   "pygments_lexer": "ipython3",
   "version": "3.6.5"
  }
 },
 "nbformat": 4,
 "nbformat_minor": 2
}

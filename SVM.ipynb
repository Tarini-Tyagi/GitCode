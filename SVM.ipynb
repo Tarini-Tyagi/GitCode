{
 "cells": [
  {
   "cell_type": "code",
   "execution_count": 2,
   "metadata": {},
   "outputs": [],
   "source": [
    "from sklearn.datasets import load_digits\n",
    "# Loading digit data\n",
    "digit=load_digits()"
   ]
  },
  {
   "cell_type": "code",
   "execution_count": 3,
   "metadata": {},
   "outputs": [
    {
     "data": {
      "text/plain": [
       "['DESCR', 'data', 'images', 'target', 'target_names']"
      ]
     },
     "execution_count": 3,
     "metadata": {},
     "output_type": "execute_result"
    }
   ],
   "source": [
    "dir(digit)"
   ]
  },
  {
   "cell_type": "code",
   "execution_count": 4,
   "metadata": {},
   "outputs": [],
   "source": [
    "features=digit.data"
   ]
  },
  {
   "cell_type": "code",
   "execution_count": 5,
   "metadata": {},
   "outputs": [],
   "source": [
    "label=digit.target"
   ]
  },
  {
   "cell_type": "code",
   "execution_count": 6,
   "metadata": {},
   "outputs": [],
   "source": [
    "# Training and testing\n",
    "from sklearn.model_selection import train_test_split\n",
    "X,x,Y,y=train_test_split(features,label,test_size=0.2)"
   ]
  },
  {
   "cell_type": "code",
   "execution_count": 10,
   "metadata": {},
   "outputs": [
    {
     "data": {
      "text/plain": [
       "<matplotlib.image.AxesImage at 0x1fbb885ce80>"
      ]
     },
     "execution_count": 10,
     "metadata": {},
     "output_type": "execute_result"
    },
    {
     "data": {
      "image/png": "[encoded data removed]",
      "text/plain": [
       "<Figure size 432x288 with 1 Axes>"
      ]
     },
     "metadata": {},
     "output_type": "display_data"
    }
   ],
   "source": [
    "# data visualize\n",
    "import matplotlib.pyplot as plt\n",
    "plt.imshow(digit.images[0])"
   ]
  },
  {
   "cell_type": "markdown",
   "metadata": {},
   "source": [
    "Using Javascript : This output should be shown in browser"
   ]
  },
  {
   "cell_type": "code",
   "execution_count": 11,
   "metadata": {},
   "outputs": [],
   "source": [
    "# Now calling SVC\n",
    "from sklearn.svm import SVC"
   ]
  },
  {
   "cell_type": "code",
   "execution_count": 12,
   "metadata": {},
   "outputs": [],
   "source": [
    "# Calling classifier\n",
    "#SVC()       \n",
    "# Study about gamma and kernal in SVC \n",
    "# what is kernal in svc\n",
    "# what is gamma in svc\n",
    "# How are they related?\n",
    "clf=SVC()\n",
    "# Train the classifier\n",
    "trained=clf.fit(X,Y)\n"
   ]
  },
  {
   "cell_type": "code",
   "execution_count": 13,
   "metadata": {},
   "outputs": [],
   "source": [
    "# Prediction\n",
    "output=trained.predict(x)"
   ]
  },
  {
   "cell_type": "code",
   "execution_count": 14,
   "metadata": {},
   "outputs": [
    {
     "data": {
      "text/plain": [
       "array([5, 0, 5, 5, 1, 4, 7, 5, 5, 5, 5, 4, 5, 6, 2, 3, 1, 5, 7, 5, 5, 6,\n",
       "       5, 5, 5, 5, 6, 5, 5, 1, 7, 5, 5, 5, 7, 5, 0, 3, 5, 5, 5, 5, 5, 6,\n",
       "       5, 7, 5, 5, 0, 5, 7, 5, 5, 5, 5, 5, 5, 5, 5, 5, 5, 6, 5, 4, 1, 3,\n",
       "       6, 5, 5, 2, 3, 5, 5, 7, 5, 5, 3, 5, 4, 0, 5, 5, 7, 5, 5, 7, 5, 5,\n",
       "       6, 2, 5, 5, 5, 5, 5, 5, 0, 9, 0, 9, 4, 5, 5, 5, 5, 5, 3, 6, 5, 5,\n",
       "       6, 2, 5, 2, 1, 6, 5, 5, 5, 4, 5, 6, 5, 5, 5, 5, 8, 1, 5, 5, 9, 5,\n",
       "       5, 9, 5, 5, 5, 5, 5, 5, 5, 0, 5, 5, 5, 5, 5, 1, 4, 5, 5, 5, 5, 5,\n",
       "       5, 0, 5, 3, 5, 8, 5, 5, 6, 5, 0, 1, 5, 5, 5, 5, 5, 1, 6, 9, 5, 5,\n",
       "       5, 4, 5, 5, 5, 4, 5, 5, 0, 4, 4, 5, 6, 0, 5, 6, 5, 5, 5, 0, 5, 5,\n",
       "       4, 2, 5, 5, 1, 5, 5, 5, 5, 6, 5, 5, 5, 8, 5, 5, 5, 5, 5, 5, 5, 5,\n",
       "       5, 5, 5, 7, 5, 5, 3, 5, 8, 6, 6, 6, 5, 5, 5, 5, 5, 5, 5, 5, 5, 1,\n",
       "       0, 5, 0, 5, 5, 9, 5, 5, 6, 5, 5, 5, 1, 4, 5, 5, 4, 5, 5, 5, 5, 5,\n",
       "       5, 5, 5, 9, 0, 5, 5, 5, 5, 5, 3, 6, 5, 5, 1, 5, 5, 6, 7, 0, 6, 4,\n",
       "       1, 3, 5, 5, 5, 4, 5, 5, 5, 6, 5, 5, 0, 3, 5, 5, 2, 5, 5, 5, 9, 4,\n",
       "       7, 5, 5, 5, 5, 5, 2, 5, 5, 5, 5, 5, 5, 5, 7, 5, 5, 5, 3, 5, 5, 0,\n",
       "       5, 5, 5, 5, 5, 5, 9, 5, 6, 5, 5, 5, 5, 5, 9, 9, 0, 5, 5, 5, 5, 7,\n",
       "       1, 5, 3, 5, 0, 5, 5, 4])"
      ]
     },
     "execution_count": 14,
     "metadata": {},
     "output_type": "execute_result"
    }
   ],
   "source": [
    "output"
   ]
  },
  {
   "cell_type": "code",
   "execution_count": 15,
   "metadata": {},
   "outputs": [
    {
     "data": {
      "text/plain": [
       "array([8, 0, 7, 6, 1, 4, 7, 8, 1, 2, 1, 4, 7, 6, 2, 3, 1, 4, 7, 1, 1, 6,\n",
       "       6, 3, 1, 5, 6, 6, 7, 1, 7, 9, 5, 0, 7, 0, 0, 3, 8, 4, 2, 3, 8, 6,\n",
       "       5, 7, 2, 4, 0, 6, 7, 8, 2, 3, 4, 3, 0, 0, 9, 7, 4, 6, 3, 4, 1, 3,\n",
       "       6, 2, 8, 2, 3, 2, 5, 7, 8, 5, 3, 9, 4, 0, 6, 0, 7, 6, 0, 7, 8, 9,\n",
       "       6, 2, 5, 5, 8, 5, 7, 1, 0, 9, 0, 9, 4, 9, 2, 9, 9, 5, 3, 6, 4, 5,\n",
       "       6, 2, 1, 2, 1, 6, 3, 0, 2, 4, 2, 6, 9, 3, 8, 7, 8, 1, 8, 4, 9, 3,\n",
       "       0, 9, 7, 8, 3, 2, 9, 1, 4, 0, 9, 2, 3, 2, 2, 1, 4, 1, 2, 4, 0, 3,\n",
       "       2, 0, 8, 3, 3, 8, 8, 6, 6, 7, 0, 1, 0, 1, 7, 5, 6, 1, 6, 9, 9, 9,\n",
       "       4, 4, 2, 9, 5, 4, 1, 4, 0, 4, 4, 6, 6, 0, 2, 6, 3, 1, 7, 0, 3, 4,\n",
       "       4, 2, 9, 2, 1, 3, 9, 7, 2, 6, 8, 5, 5, 8, 5, 2, 1, 5, 9, 9, 7, 2,\n",
       "       5, 1, 7, 7, 2, 8, 3, 7, 8, 6, 6, 6, 2, 4, 4, 9, 6, 8, 2, 2, 5, 1,\n",
       "       0, 4, 0, 2, 8, 9, 3, 1, 6, 1, 1, 9, 1, 4, 3, 9, 4, 2, 8, 5, 3, 9,\n",
       "       3, 0, 4, 9, 0, 3, 5, 8, 4, 3, 3, 6, 4, 2, 1, 5, 3, 6, 7, 0, 6, 4,\n",
       "       1, 3, 0, 2, 2, 4, 4, 8, 3, 6, 5, 2, 0, 3, 2, 2, 2, 7, 2, 7, 9, 4,\n",
       "       7, 9, 5, 5, 9, 8, 2, 8, 5, 2, 0, 3, 8, 1, 7, 5, 9, 5, 3, 9, 7, 0,\n",
       "       3, 7, 3, 2, 2, 4, 9, 7, 6, 7, 1, 5, 8, 6, 9, 9, 0, 7, 5, 3, 3, 7,\n",
       "       1, 5, 3, 2, 0, 4, 8, 4])"
      ]
     },
     "execution_count": 15,
     "metadata": {},
     "output_type": "execute_result"
    }
   ],
   "source": [
    "y   # Original output"
   ]
  },
  {
   "cell_type": "code",
   "execution_count": 16,
   "metadata": {},
   "outputs": [],
   "source": [
    "from sklearn.metrics import accuracy_score"
   ]
  },
  {
   "cell_type": "code",
   "execution_count": 17,
   "metadata": {},
   "outputs": [
    {
     "data": {
      "text/plain": [
       "0.4388888888888889"
      ]
     },
     "execution_count": 17,
     "metadata": {},
     "output_type": "execute_result"
    }
   ],
   "source": [
    "accuracy_score(output,y)"
   ]
  },
  {
   "cell_type": "code",
   "execution_count": null,
   "metadata": {},
   "outputs": [],
   "source": [
    "# On changing the values of kernal and gamma the accuracy will increase\n",
    "\n",
    "# Data STructure : Maths-----make own algorithm"
   ]
  }
 ],
 "metadata": {
  "kernelspec": {
   "display_name": "Python 3",
   "language": "python",
   "name": "python3"
  },
  "language_info": {
   "codemirror_mode": {
    "name": "ipython",
    "version": 3
   },
   "file_extension": ".py",
   "mimetype": "text/x-python",
   "name": "python",
   "nbconvert_exporter": "python",
   "pygments_lexer": "ipython3",
   "version": "3.6.5"
  }
 },
 "nbformat": 4,
 "nbformat_minor": 2
}

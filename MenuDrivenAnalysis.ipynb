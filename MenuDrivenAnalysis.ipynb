{
 "cells": [
  {
   "cell_type": "code",
   "execution_count": 1,
   "metadata": {},
   "outputs": [],
   "source": [
    "import pandas as pd\n",
    "import numpy as np"
   ]
  },
  {
   "cell_type": "code",
   "execution_count": 9,
   "metadata": {},
   "outputs": [
    {
     "name": "stdout",
     "output_type": "stream",
     "text": [
      "    Analysis Made Easy   \n",
      " Choose your file type :\n",
      "    1) CSV file\n",
      "    2) XLSX file\n",
      "1\n",
      "Enter the path of the dataset for analysisFruit.csv\n",
      "   Texture  Weight   Fruit\n",
      "0        0     100   Apple\n",
      "1        0     110   Apple\n",
      "2        0     120   Apple\n",
      "3        0     105   Apple\n",
      "4        0     115   Apple\n",
      "5        1     130  Orange\n",
      "6        1     135  Orange\n",
      "7        1     140  Orange\n",
      "8        1     145  Orange\n",
      "9        1     150  Orange\n",
      "Choose Classification Algorithm\n",
      "     Choose Smart Select Option if you don't know which algo should be applied\n",
      "     1) DecisionTreeClassifier\n",
      "     2) KNN\n",
      "     3) Smart Select 1\n",
      "For features mention column number : 12\n",
      "[[0 100 'Apple']\n",
      " [0 110 'Apple']\n",
      " [0 120 'Apple']\n",
      " [0 105 'Apple']\n",
      " [0 115 'Apple']\n",
      " [1 130 'Orange']\n",
      " [1 135 'Orange']\n",
      " [1 140 'Orange']\n",
      " [1 145 'Orange']\n",
      " [1 150 'Orange']]\n",
      "Apple\n"
     ]
    }
   ],
   "source": [
    "def dcf():\n",
    "    features_nm=list(input(\"For features mention column number : \"))\n",
    "    a=features_nm[0]\n",
    "    b=features_nm[1]\n",
    "    data=csvFile.values\n",
    "    print(csvFile.values)\n",
    "    features= data[0:10][0:2]\n",
    "    print(features)\n",
    "    \n",
    "print(\"    Analysis Made Easy   \")\n",
    "d=''' Choose your file type :\n",
    "    1) CSV file\n",
    "    2) XLSX file\n",
    "'''\n",
    "file_choice=input(d)\n",
    "if file_choice=='1':\n",
    "    dataset = input(\"Enter the path of the dataset for analysis\")\n",
    "    csvFile=pd.read_csv(dataset)\n",
    "    print(csvFile)\n",
    "elif file_choice=='2':\n",
    "    dataset = input(\"Enter the path of the dataset for analysis\")\n",
    "    excelFile=pd.read_excel(dataset)\n",
    "    print(excelFile)\n",
    "else:\n",
    "    printf(\"Invalid Selection\")\n",
    "\n",
    "f='''Choose Classification Algorithm\n",
    "     Choose Smart Select Option if you don't know which algo should be applied\n",
    "     1) DecisionTreeClassifier\n",
    "     2) KNN\n",
    "     3) Smart Select '''\n",
    "\n",
    "choice=input(f)\n",
    "if choice=='1':\n",
    "        dcf()\n",
    "elif choice=='2':\n",
    "        KNN()\n",
    "elif choice=='3':\n",
    "        smart()\n",
    "else:\n",
    "        printf(\"Invalid Selection\")\n",
    "\n"
   ]
  },
  {
   "cell_type": "code",
   "execution_count": null,
   "metadata": {},
   "outputs": [],
   "source": []
  }
 ],
 "metadata": {
  "kernelspec": {
   "display_name": "Python 3",
   "language": "python",
   "name": "python3"
  },
  "language_info": {
   "codemirror_mode": {
    "name": "ipython",
    "version": 3
   },
   "file_extension": ".py",
   "mimetype": "text/x-python",
   "name": "python",
   "nbconvert_exporter": "python",
   "pygments_lexer": "ipython3",
   "version": "3.6.5"
  }
 },
 "nbformat": 4,
 "nbformat_minor": 2
}

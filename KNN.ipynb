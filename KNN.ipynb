{
 "cells": [
  {
   "cell_type": "code",
   "execution_count": 1,
   "metadata": {},
   "outputs": [],
   "source": [
    "# K Nearest Neighbour -- works on pure mathematical approach -- is a classifier \n",
    "# Classifier only do prediction , doesn't care about the accuracy\n",
    "# We calculate accuracy\n",
    "# k is a constant value \n",
    "# A circle will be formed considering your input and all nearest neighbours , if least distance is less for a category\n",
    "# it will be the ans\n",
    "# Not recomanded for large datasets bcz distance of each point from given data is calculated and least distance is found\n",
    "# value of k should be odd excluding 1  [Recomandation for best performance]\n",
    "# KNN -- Performance issue with large datasets\n",
    "# Why even no. should not be taken\n",
    "# Decision Tree Classifier and KNN both support Regression\n",
    "\n",
    "\n",
    "\n",
    "\n",
    "\n"
   ]
  },
  {
   "cell_type": "code",
   "execution_count": 5,
   "metadata": {},
   "outputs": [
    {
     "name": "stdout",
     "output_type": "stream",
     "text": [
      "['setosa' 'versicolor' 'virginica']\n"
     ]
    },
    {
     "data": {
      "text/plain": [
       "(150,)"
      ]
     },
     "execution_count": 5,
     "metadata": {},
     "output_type": "execute_result"
    }
   ],
   "source": [
    "from sklearn.datasets import load_iris  # Loading Datasets\n",
    "\n",
    "iris = load_iris()                      # Loading into a variable\n",
    "\n",
    "dir(iris)                               # exploring variables\n",
    "\n",
    "#iris.DESCR   # Description about the datasets\n",
    "iris.feature_names    # feature of flowers\n",
    "print(iris.target_names)     # Target output values\n",
    "\n",
    "# actual data with attributes\n",
    "iris_features = iris.data\n",
    "\n",
    "iris_features.shape\n",
    "type(iris_features)\n",
    "\n",
    "# now time for target/label data that will be same as no. of features data\n",
    "# no. of row or features must be equal to no. of answer or label  [No. of columns are not related to no. of answers// On increasing attribute ans do not change]\n",
    "\n",
    "label=iris.target  # 0 for Setosa 1- versicolor 2- virginica\n",
    "label.shape\n"
   ]
  },
  {
   "cell_type": "markdown",
   "metadata": {},
   "source": [
    "# Put your Code for Graph"
   ]
  },
  {
   "cell_type": "code",
   "execution_count": 12,
   "metadata": {},
   "outputs": [
    {
     "name": "stdout",
     "output_type": "stream",
     "text": [
      "[0 0 0 0 2 0 1 2 2 0 2 0 1 2 2 2 0 2 2 1 0 2 0 2 1 0 2 2 1 2]\n",
      "[0 0 0 0 2 0 1 2 2 0 2 0 1 2 2 2 0 2 2 1 0 2 0 2 1 0 1 2 1 2]\n"
     ]
    }
   ],
   "source": [
    "from sklearn.model_selection import train_test_split\n",
    "\n",
    "train_data,test_data,label_train,label_test=train_test_split(iris_features,label,test_size=0.2)\n",
    "# we have to give both ques and ans to model, test size=0.1 means separate 10% data i.e don't use that for training [random_state=0]\n",
    "'''1- actualData 90%\n",
    "   2- actual 10%\n",
    "   3- ans 90%\n",
    "   4- ans 10% '''\n",
    "#   help(train_test_split())  for getting help\n",
    "\n",
    "\n",
    "# Importing KNN Classifier\n",
    "from sklearn.neighbors import KNeighborsClassifier\n",
    "\n",
    "# Calling KNN\n",
    "#KNeighborsClassifier(Shift+Tab)  // for help\n",
    "\n",
    "kclf=KNeighborsClassifier(n_neighbors=5)  # Default value of k is 5 , if nothing in () 5 is considered\n",
    "\n",
    "# applying training data\n",
    "trained=kclf.fit(train_data,label_train)\n",
    "predicted_output=trained.predict(test_data)\n",
    "print(predicted_output)\n",
    "print(label_test)"
   ]
  },
  {
   "cell_type": "code",
   "execution_count": 14,
   "metadata": {},
   "outputs": [
    {
     "name": "stdout",
     "output_type": "stream",
     "text": [
      "0.9666666666666667\n"
     ]
    }
   ],
   "source": [
    "# Calculating accuracy score\n",
    "from sklearn.metrics import accuracy_score\n",
    "acr=accuracy_score(label_test,predicted_output)\n",
    "print(acr)"
   ]
  },
  {
   "cell_type": "code",
   "execution_count": 17,
   "metadata": {},
   "outputs": [
    {
     "name": "stdout",
     "output_type": "stream",
     "text": [
      "0.9666666666666667\n"
     ]
    }
   ],
   "source": [
    "# Calling DTC\n",
    "from sklearn.tree import DecisionTreeClassifier\n",
    "dclf=DecisionTreeClassifier()\n",
    "dtrained=dclf.fit(train_data,label_train)\n",
    "dpredicted=dtrained.predict(test_data)\n",
    "dacr=accuracy_score(label_test,dpredicted)\n",
    "print(dacr)"
   ]
  },
  {
   "cell_type": "code",
   "execution_count": null,
   "metadata": {},
   "outputs": [],
   "source": [
    "# Compare DTC and KNN\n",
    "import matplotlib.pyplot as plt\n",
    "\n",
    "\n",
    "plt.xlabel(\"DTC\")\n",
    "plt.ylabel(\"KNN\")"
   ]
  }
 ],
 "metadata": {
  "kernelspec": {
   "display_name": "Python 3",
   "language": "python",
   "name": "python3"
  },
  "language_info": {
   "codemirror_mode": {
    "name": "ipython",
    "version": 3
   },
   "file_extension": ".py",
   "mimetype": "text/x-python",
   "name": "python",
   "nbconvert_exporter": "python",
   "pygments_lexer": "ipython3",
   "version": "3.6.5"
  }
 },
 "nbformat": 4,
 "nbformat_minor": 2
}

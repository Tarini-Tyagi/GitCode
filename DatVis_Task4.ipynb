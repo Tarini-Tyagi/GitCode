{
 "cells": [
  {
   "cell_type": "code",
   "execution_count": 0,
   "metadata": {
    "colab": {
     "base_uri": "https://localhost:8080/",
     "height": 51
    },
    "colab_type": "code",
    "id": "Ugy-M3bUnR_W",
    "outputId": "820725c2-17b1-4e38-ed86-9f47a25a6a88"
   },
   "outputs": [
    {
     "name": "stdout",
     "output_type": "stream",
     "text": [
      "Total words : \n"
     ]
    },
    {
     "data": {
      "text/plain": [
       "23171"
      ]
     },
     "execution_count": 10,
     "metadata": {
      "tags": []
     },
     "output_type": "execute_result"
    }
   ],
   "source": [
    "\n",
    "import requests   # Using this module for getting scraped data \n",
    "\n",
    "\n",
    "url = 'https://www.allsides.com/media-bias/media-bias-ratings'\n",
    "str1 = requests.get(url).text\n",
    "c=0                         # c is counter for total words\n",
    "def word_count(str2):        # function counts total no. of words\n",
    "    counts = dict()\n",
    "    words = str2.split()\n",
    "    for word in words:\n",
    "        global c\n",
    "        c=c+1\n",
    "    return c\n",
    "print(\"Total words : \")\n",
    "word_count(str1)\n",
    "\n",
    "\n",
    "      "
   ]
  },
  {
   "cell_type": "code",
   "execution_count": 0,
   "metadata": {
    "colab": {},
    "colab_type": "code",
    "id": "M-EpceuPns_1"
   },
   "outputs": [],
   "source": [
    " \n",
    " def word_c(str2):     # Function calculating frequency of each word\n",
    "    \n",
    "    counts = dict()\n",
    "    words = str2.split()\n",
    "\n",
    "    for word in words:\n",
    "        if word in counts:\n",
    "            counts[word] += 1\n",
    "            \n",
    "        else:\n",
    "            counts[word] = 1\n",
    "\n",
    "    return counts\n",
    "\n",
    "data_set=word_c(str1)\n",
    "\n"
   ]
  },
  {
   "cell_type": "code",
   "execution_count": 0,
   "metadata": {
    "colab": {
     "base_uri": "https://localhost:8080/",
     "height": 357
    },
    "colab_type": "code",
    "id": "xX6LC6nPn9qs",
    "outputId": "24ceaf27-8bda-4320-dc5b-0089402e6779"
   },
   "outputs": [
    {
     "data": {
      "text/plain": [
       "[(1069, '<div'),\n",
       " (668, '</div>'),\n",
       " (365, 'class=\"star'),\n",
       " (317, 'the'),\n",
       " (300, 'rel=\"nofollow\"'),\n",
       " (296, 'class=\"views-field'),\n",
       " (292, 'rate-btn\"'),\n",
       " (292, 'class=\"rate-button'),\n",
       " (292, '<td'),\n",
       " (292, '</td>'),\n",
       " (266, '/>'),\n",
       " (232, 'class=\"form-item'),\n",
       " (224, '<li'),\n",
       " (223, 'this'),\n",
       " (223, 'is'),\n",
       " (223, 'News'),\n",
       " (219, 'class=\"off\"></span></div><div'),\n",
       " (181, '<a'),\n",
       " (167, '<input'),\n",
       " (163, 'Bias')]"
      ]
     },
     "execution_count": 12,
     "metadata": {
      "tags": []
     },
     "output_type": "execute_result"
    }
   ],
   "source": [
    "\n",
    "import itertools\n",
    "def sortFreqDict(freqdict):                          # Fxn for sorting the wordcount as per frequency\n",
    "    aux = [(freqdict[key], key) for key in freqdict]\n",
    "    aux.sort()\n",
    "    aux.reverse()\n",
    "    return aux\n",
    "sortedList=sortFreqDict(data_set)\n",
    "type(sortedList)\n",
    "\n",
    "sortedList[:20]      # Displaying top 20 repeated words"
   ]
  },
  {
   "cell_type": "code",
   "execution_count": 0,
   "metadata": {
    "colab": {
     "base_uri": "https://localhost:8080/",
     "height": 269
    },
    "colab_type": "code",
    "id": "kPurPjvK3Elz",
    "outputId": "45bf2fb6-e02f-46ae-8f92-42cf8bc1c9ee"
   },
   "outputs": [
    {
     "data": {
      "image/png": "[encoded data removed]",
      "text/plain": [
       "<Figure size 432x288 with 1 Axes>"
      ]
     },
     "metadata": {
      "tags": []
     },
     "output_type": "display_data"
    }
   ],
   "source": [
    "import matplotlib.pyplot as plt\n",
    "import numpy as np\n",
    "\n",
    "arr = np.array(sortedList)    #list indices must be integers or slices, not tuple\n",
    "x = arr[0:10,0]   # Selecting first 10 rows and 1st column\n",
    "y = arr[0:10,1]   # Selecting first 10 rows and 2nd column\n",
    "# Plotting a colorful scatter plot\n",
    "N=10\n",
    "colors = np.random.rand(N)\n",
    "plt.scatter(x, y, c=colors, alpha=0.5)\n",
    "plt.show()\n",
    "\n"
   ]
  },
  {
   "cell_type": "code",
   "execution_count": 0,
   "metadata": {
    "colab": {},
    "colab_type": "code",
    "id": "XChZYpeWB9dD"
   },
   "outputs": [],
   "source": [
    ""
   ]
  }
 ],
 "metadata": {
  "colab": {
   "collapsed_sections": [],
   "name": "DatVis-Task4.ipynb",
   "provenance": [],
   "version": "0.3.2"
  },
  "kernelspec": {
   "display_name": "Python 3",
   "name": "python3"
  }
 },
 "nbformat": 4,
 "nbformat_minor": 0
}

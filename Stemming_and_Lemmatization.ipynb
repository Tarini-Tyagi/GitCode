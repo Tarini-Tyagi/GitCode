{
  "nbformat": 4,
  "nbformat_minor": 0,
  "metadata": {
    "colab": {
      "name": "Stemming and Lemmatization.ipynb",
      "version": "0.3.2",
      "provenance": [],
      "collapsed_sections": []
    },
    "kernelspec": {
      "name": "python3",
      "display_name": "Python 3"
    }
  },
  "cells": [
    {
      "cell_type": "code",
      "metadata": {
        "id": "69x40B4XbWQo",
        "colab_type": "code",
        "colab": {}
      },
      "source": [
        "# Stemming and Lemmatization\n",
        "# slashml.blogpost.com--->NLP"
      ],
      "execution_count": 0,
      "outputs": []
    },
    {
      "cell_type": "markdown",
      "metadata": {
        "id": "FCuC6jCWcHly",
        "colab_type": "text"
      },
      "source": [
        "Stemming :- \n",
        "\n",
        "---\n",
        "Stemming and Lemmatization both generate the root form of the inflected words. The difference is that stem might not be an actual word whereas, lemma is an actual language word. Stemming follows an algorithm with steps to perform on the words which makes it faster. \n",
        "\n",
        "Stemming is used in decision making on the basis of a pattern\n",
        "Lemmatization is done with word having some meaning"
      ]
    },
    {
      "cell_type": "code",
      "metadata": {
        "id": "zM_CohqJdmwt",
        "colab_type": "code",
        "colab": {}
      },
      "source": [
        "# from nltk import stem\n",
        "from nltk.stem import PorterStemmer      # for stemming\n",
        "from nltk.stem import WordNetLemmatizer  # Lemma\n",
        "# streamming\n",
        "port=PorterStemmer()"
      ],
      "execution_count": 0,
      "outputs": []
    },
    {
      "cell_type": "code",
      "metadata": {
        "id": "ZVAxEt2KdvnF",
        "colab_type": "code",
        "outputId": "10d7072f-3c8c-4e19-eebc-9f68f2127f30",
        "colab": {
          "base_uri": "https://localhost:8080/",
          "height": 235
        }
      },
      "source": [
        "#dir(stem)\n",
        "# word suppy\n",
        "import time\n",
        "for i in ['going','goes','gone','go','intelligent','intelligence','intelligently','feet','foot','cars','car','caar']:\n",
        "  print(port.stem(i))\n",
        "  time.sleep(1)"
      ],
      "execution_count": 0,
      "outputs": [
        {
          "output_type": "stream",
          "text": [
            "go\n",
            "goe\n",
            "gone\n",
            "go\n",
            "intellig\n",
            "intellig\n",
            "intellig\n",
            "feet\n",
            "foot\n",
            "car\n",
            "car\n",
            "caar\n"
          ],
          "name": "stdout"
        }
      ]
    },
    {
      "cell_type": "code",
      "metadata": {
        "id": "_ME4be0ye9FB",
        "colab_type": "code",
        "colab": {}
      },
      "source": [
        ""
      ],
      "execution_count": 0,
      "outputs": []
    },
    {
      "cell_type": "markdown",
      "metadata": {
        "id": "eVAUIahIfF5g",
        "colab_type": "text"
      },
      "source": [
        "Topic from wikipedia --scrap[SMTP lib]---apply tokenizer--- remove stopword----apply stemming---Replace that particular keyword-----in a new file save it\n",
        "\n",
        "\n",
        "To make a chatbot:\n",
        "i want to hear story\n",
        "\n",
        "\n",
        "what kind\n",
        "\n",
        "\n",
        "motivational\n",
        "\n",
        "\n",
        "search meaning of motivation from nltk from database\n",
        "and play story\n",
        "\n",
        "9 gb of data can be download from stanford site to train your chatbot\n",
        "\n",
        "\n",
        "mailenator \n",
        "\n",
        "Spam and ham detection\n",
        "\n",
        "ifconfig\n",
        "yum\n",
        "no network-scripts\n",
        "\n",
        "interactive mode ->network->check ip\n",
        "yum whatprovides \n",
        "base machine has ifconfig\n",
        "find path copy in virtual\n",
        "\n",
        "\n"
      ]
    },
    {
      "cell_type": "code",
      "metadata": {
        "id": "hwj6HV0yfel9",
        "colab_type": "code",
        "colab": {}
      },
      "source": [
        ""
      ],
      "execution_count": 0,
      "outputs": []
    }
  ]
}
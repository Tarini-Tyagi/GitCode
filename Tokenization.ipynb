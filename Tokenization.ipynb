{
  "nbformat": 4,
  "nbformat_minor": 0,
  "metadata": {
    "colab": {
      "name": "Tokenization.ipynb",
      "version": "0.3.2",
      "provenance": [],
      "collapsed_sections": []
    },
    "kernelspec": {
      "name": "python3",
      "display_name": "Python 3"
    }
  },
  "cells": [
    {
      "cell_type": "code",
      "metadata": {
        "id": "lxSsN2yaQMEL",
        "colab_type": "code",
        "colab": {}
      },
      "source": [
        ""
      ],
      "execution_count": 0,
      "outputs": []
    },
    {
      "cell_type": "markdown",
      "metadata": {
        "id": "dPA9w3QHQOhE",
        "colab_type": "text"
      },
      "source": [
        "**Tokenization :**\n",
        "Category of data:\n",
        "Sentence, word, character\n",
        "\n",
        "seperating data in terms of sentence/words/character is turned as tokenization\n",
        "\n"
      ]
    },
    {
      "cell_type": "markdown",
      "metadata": {
        "id": "qQYzBZLkQNQH",
        "colab_type": "text"
      },
      "source": [
        ""
      ]
    },
    {
      "cell_type": "code",
      "metadata": {
        "id": "dSLNdZPDQSmH",
        "colab_type": "code",
        "outputId": "627d6932-0c1d-41c3-e208-fa27fcdebf1d",
        "colab": {
          "base_uri": "https://localhost:8080/",
          "height": 110
        }
      },
      "source": [
        "msg=''' Hi User,\n",
        "Through our partnerships with some company, we’re occasionally able to secure our community some of their best courses for FREE! \n",
        "Today we were able to give you the following 3 popular classes! \n",
        "Click on any/all to enroll for at no charge? \n",
        "All is Well.'''\n",
        "\n",
        "# import tokenizer\n",
        "from nltk.tokenize import sent_tokenize\n",
        "from nltk.tokenize import word_tokenize\n",
        "import nltk\n",
        "nltk.download('punkt')\n",
        "# sentance tokenize\n",
        "sent=sent_tokenize(msg)\n",
        "print(sent)\n",
        "len(sent)"
      ],
      "execution_count": 0,
      "outputs": [
        {
          "output_type": "stream",
          "text": [
            "[nltk_data] Downloading package punkt to /root/nltk_data...\n",
            "[nltk_data]   Package punkt is already up-to-date!\n",
            "[' Hi User,\\nThrough our partnerships with some company, we’re occasionally able to secure our community some of their best courses for FREE!', 'Today we were able to give you the following 3 popular classes!', 'Click on any/all to enroll for at no charge?', 'All is Well.']\n"
          ],
          "name": "stdout"
        },
        {
          "output_type": "execute_result",
          "data": {
            "text/plain": [
              "4"
            ]
          },
          "metadata": {
            "tags": []
          },
          "execution_count": 5
        }
      ]
    },
    {
      "cell_type": "code",
      "metadata": {
        "id": "cS8f4vB7X8Sh",
        "colab_type": "code",
        "outputId": "ca597db4-efb9-4e3d-9c01-77ce042d75eb",
        "colab": {
          "base_uri": "https://localhost:8080/",
          "height": 35
        }
      },
      "source": [
        "word=word_tokenize(msg)\n",
        "len(word)"
      ],
      "execution_count": 0,
      "outputs": [
        {
          "output_type": "execute_result",
          "data": {
            "text/plain": [
              "54"
            ]
          },
          "metadata": {
            "tags": []
          },
          "execution_count": 4
        }
      ]
    },
    {
      "cell_type": "code",
      "metadata": {
        "id": "PZ_21SSnYZnr",
        "colab_type": "code",
        "outputId": "7007dd5c-0ae2-4e86-edb8-a7b7b261357c",
        "colab": {
          "base_uri": "https://localhost:8080/",
          "height": 72
        }
      },
      "source": [
        "# stopword removal\n",
        "from nltk.corpus import stopwords\n",
        "import nltk\n",
        "nltk.download('stopwords')\n",
        "\n",
        "# remove stopwords from actual words\n",
        "newwords=[i for i in word if i.lower() not in stopwords.words('english')]\n",
        "len(newwords)"
      ],
      "execution_count": 0,
      "outputs": [
        {
          "output_type": "stream",
          "text": [
            "[nltk_data] Downloading package stopwords to /root/nltk_data...\n",
            "[nltk_data]   Package stopwords is already up-to-date!\n"
          ],
          "name": "stdout"
        },
        {
          "output_type": "execute_result",
          "data": {
            "text/plain": [
              "30"
            ]
          },
          "metadata": {
            "tags": []
          },
          "execution_count": 6
        }
      ]
    },
    {
      "cell_type": "code",
      "metadata": {
        "id": "-BorGBDxZBr4",
        "colab_type": "code",
        "colab": {}
      },
      "source": [
        "import nltk\n",
        "import matplotlib.pyplot as plt"
      ],
      "execution_count": 0,
      "outputs": []
    },
    {
      "cell_type": "code",
      "metadata": {
        "id": "GQqhzUD9ZTIC",
        "colab_type": "code",
        "outputId": "916becb7-f58b-4a09-a6ac-324588fa65d5",
        "colab": {
          "base_uri": "https://localhost:8080/",
          "height": 336
        }
      },
      "source": [
        "nlp=nltk.FreqDist(word)\n",
        "nlp.plot()"
      ],
      "execution_count": 0,
      "outputs": [
        {
          "output_type": "display_data",
          "data": {
            "image/png": "[encoded data removed]",
            "text/plain": [
              "<Figure size 432x288 with 1 Axes>"
            ]
          },
          "metadata": {
            "tags": []
          }
        }
      ]
    },
    {
      "cell_type": "code",
      "metadata": {
        "id": "9HwphBeRZcDM",
        "colab_type": "code",
        "outputId": "79d69f27-cb3f-4e07-de26-e1495317d6bf",
        "colab": {
          "base_uri": "https://localhost:8080/",
          "height": 336
        }
      },
      "source": [
        "nlp=nltk.FreqDist(newwords)\n",
        "nlp.plot()"
      ],
      "execution_count": 0,
      "outputs": [
        {
          "output_type": "display_data",
          "data": {
            "image/png": "[encoded data removed]",
            "text/plain": [
              "<Figure size 432x288 with 1 Axes>"
            ]
          },
          "metadata": {
            "tags": []
          }
        }
      ]
    },
    {
      "cell_type": "code",
      "metadata": {
        "id": "tDcQhPcGZhxw",
        "colab_type": "code",
        "colab": {}
      },
      "source": [
        "# Make sentence from the word "
      ],
      "execution_count": 0,
      "outputs": []
    }
  ]
}
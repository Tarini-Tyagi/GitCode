{
  "nbformat": 4,
  "nbformat_minor": 0,
  "metadata": {
    "colab": {
      "name": "LemmasANDstem.ipynb",
      "version": "0.3.2",
      "provenance": [],
      "collapsed_sections": []
    },
    "kernelspec": {
      "name": "python3",
      "display_name": "Python 3"
    }
  },
  "cells": [
    {
      "cell_type": "code",
      "metadata": {
        "id": "7GYkj8GCaq6H",
        "colab_type": "code",
        "colab": {
          "base_uri": "https://localhost:8080/",
          "height": 90
        },
        "outputId": "233aebe0-9d0e-4bd8-fb6b-28b39e7e6ceb"
      },
      "source": [
        "# from nltk import stem\n",
        "from nltk.stem import PorterStemmer      # for stemming\n",
        "from nltk.stem import WordNetLemmatizer  # Lemma\n",
        "from nltk.tokenize import sent_tokenize\n",
        "from nltk.tokenize import word_tokenize\n",
        "from nltk.corpus import stopwords\n",
        "import nltk\n",
        "nltk.download('stopwords')\n",
        "\n",
        "import nltk\n",
        "nltk.download('punkt')\n",
        "# streamming\n",
        "port=PorterStemmer()\n",
        "data=\"hello world so nice to meet you so kind of you\"\n",
        "tdata=word_tokenize(data)\n",
        "tdata\n",
        "rmdata=[i for i in tdata if i.lower() not in stopwords.words('english')]"
      ],
      "execution_count": 3,
      "outputs": [
        {
          "output_type": "stream",
          "text": [
            "[nltk_data] Downloading package stopwords to /root/nltk_data...\n",
            "[nltk_data]   Unzipping corpora/stopwords.zip.\n",
            "[nltk_data] Downloading package punkt to /root/nltk_data...\n",
            "[nltk_data]   Package punkt is already up-to-date!\n"
          ],
          "name": "stdout"
        }
      ]
    },
    {
      "cell_type": "code",
      "metadata": {
        "id": "eY1kJLgEb3Gf",
        "colab_type": "code",
        "colab": {
          "base_uri": "https://localhost:8080/",
          "height": 35
        },
        "outputId": "b5580888-129d-4109-8b6b-95b373069f8b"
      },
      "source": [
        "rmdata"
      ],
      "execution_count": 4,
      "outputs": [
        {
          "output_type": "execute_result",
          "data": {
            "text/plain": [
              "['hello', 'world', 'nice', 'meet', 'kind']"
            ]
          },
          "metadata": {
            "tags": []
          },
          "execution_count": 4
        }
      ]
    },
    {
      "cell_type": "code",
      "metadata": {
        "id": "A1xuSjKDcOtZ",
        "colab_type": "code",
        "colab": {
          "base_uri": "https://localhost:8080/",
          "height": 108
        },
        "outputId": "c6b55d57-4efa-4157-9329-c1450fbea950"
      },
      "source": [
        "pt=PorterStemmer()\n",
        "for i in rmdata:\n",
        "  print(i,\"stemmed into--> \",pt.stem(i))"
      ],
      "execution_count": 6,
      "outputs": [
        {
          "output_type": "stream",
          "text": [
            "hello stemmed into-->  hello\n",
            "world stemmed into-->  world\n",
            "nice stemmed into-->  nice\n",
            "meet stemmed into-->  meet\n",
            "kind stemmed into-->  kind\n"
          ],
          "name": "stdout"
        }
      ]
    },
    {
      "cell_type": "code",
      "metadata": {
        "id": "f9iKC5vJcgYD",
        "colab_type": "code",
        "colab": {
          "base_uri": "https://localhost:8080/",
          "height": 145
        },
        "outputId": "24260fd2-2a01-4c53-c4dc-e33cee7ddd06"
      },
      "source": [
        "# Lemma\n",
        "import nltk\n",
        "nltk.download('wordnet')\n",
        "wl=WordNetLemmatizer()\n",
        "for i in rmdata:\n",
        "    print(wl.lemmatize(i))"
      ],
      "execution_count": 12,
      "outputs": [
        {
          "output_type": "stream",
          "text": [
            "[nltk_data] Downloading package wordnet to /root/nltk_data...\n",
            "[nltk_data]   Unzipping corpora/wordnet.zip.\n",
            "hello\n",
            "world\n",
            "nice\n",
            "meet\n",
            "kind\n"
          ],
          "name": "stdout"
        }
      ]
    },
    {
      "cell_type": "code",
      "metadata": {
        "id": "wP9sun1dcxpi",
        "colab_type": "code",
        "colab": {
          "base_uri": "https://localhost:8080/",
          "height": 35
        },
        "outputId": "9c32051a-40a3-4592-d4d8-5a437deafd98"
      },
      "source": [
        "# stemming\n",
        "x=\"loving\"\n",
        "pt.stem(x)"
      ],
      "execution_count": 13,
      "outputs": [
        {
          "output_type": "execute_result",
          "data": {
            "text/plain": [
              "'love'"
            ]
          },
          "metadata": {
            "tags": []
          },
          "execution_count": 13
        }
      ]
    },
    {
      "cell_type": "code",
      "metadata": {
        "id": "lBr_rbU_dPgo",
        "colab_type": "code",
        "colab": {
          "base_uri": "https://localhost:8080/",
          "height": 35
        },
        "outputId": "9b8ef01d-d295-4f34-b122-eb5c0e66317c"
      },
      "source": [
        "# Lemmaatizations\n",
        "wl.lemmatize(x)"
      ],
      "execution_count": 14,
      "outputs": [
        {
          "output_type": "execute_result",
          "data": {
            "text/plain": [
              "'loving'"
            ]
          },
          "metadata": {
            "tags": []
          },
          "execution_count": 14
        }
      ]
    },
    {
      "cell_type": "code",
      "metadata": {
        "id": "neltS-s7dfdQ",
        "colab_type": "code",
        "colab": {}
      },
      "source": [
        ""
      ],
      "execution_count": 0,
      "outputs": []
    }
  ]
}
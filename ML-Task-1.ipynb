{
 "cells": [
  {
   "cell_type": "code",
   "execution_count": 9,
   "metadata": {},
   "outputs": [
    {
     "name": "stdout",
     "output_type": "stream",
     "text": [
      "Enter the dimensions (for eg: 2x3) : 2x4\n"
     ]
    }
   ],
   "source": [
    "import numpy as np\n",
    "\n",
    "dm = input(\"Enter the dimensions (for eg: 2x3) : \")\n",
    "a = int(dm[0])\n",
    "b = int(dm[2])\n",
    "arr = np.random.rand(a,b)\n",
    "file1 = open(\"MLtask1.txt\",\"w+\") \n",
    "trn = str(arr)\n",
    "file1.write(trn) #write() argument must be str, not numpy.ndarray\n",
    "file1.seek(0)  \n",
    "file1.close()\n"
   ]
  },
  {
   "cell_type": "code",
   "execution_count": null,
   "metadata": {},
   "outputs": [],
   "source": []
  }
 ],
 "metadata": {
  "kernelspec": {
   "display_name": "Python 3",
   "language": "python",
   "name": "python3"
  },
  "language_info": {
   "codemirror_mode": {
    "name": "ipython",
    "version": 3
   },
   "file_extension": ".py",
   "mimetype": "text/x-python",
   "name": "python",
   "nbconvert_exporter": "python",
   "pygments_lexer": "ipython3",
   "version": "3.6.5"
  }
 },
 "nbformat": 4,
 "nbformat_minor": 2
}

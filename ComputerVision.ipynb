{
  "nbformat": 4,
  "nbformat_minor": 0,
  "metadata": {
    "colab": {
      "name": "ComputerVision.ipynb",
      "version": "0.3.2",
      "provenance": [],
      "collapsed_sections": []
    },
    "kernelspec": {
      "name": "python3",
      "display_name": "Python 3"
    }
  },
  "cells": [
    {
      "cell_type": "code",
      "metadata": {
        "id": "joUMItQ5oOFK",
        "colab_type": "code",
        "colab": {}
      },
      "source": [
        ""
      ],
      "execution_count": 0,
      "outputs": []
    },
    {
      "cell_type": "markdown",
      "metadata": {
        "id": "KSyKpyPooYkJ",
        "colab_type": "text"
      },
      "source": [
        "Computer Vision :- \n",
        "\n",
        "Data will be taken by :\n",
        "\n",
        "Image\n",
        "\n",
        "Video\n",
        "\n",
        "or gif, animated video, emoji\n",
        "\n",
        "Image : Collection of no. of rows and columns, and cell is pixel\n",
        "\n",
        "Pixel can be RGB or BGR [value ranges from 0-255]\n",
        "\n",
        "0- Black\n",
        "255 - White\n",
        "if all pixels are 0 then black\n",
        "\n",
        "For BGR if we want blue\n",
        "[255,0,0] --- Only blue\n",
        "\n",
        "Task: System should tell major color of picture\n",
        "[B,G,R]------ check all pixels for each cell\n",
        "\n",
        "Red Color Detection:\n",
        "Apply break --- IoT integration with computer vision\n",
        "\n",
        "np.zeros((400,300))\n",
        "\n",
        "\n",
        "[0,0,0,.......]\n",
        "we need (0,0,0)  ---- numpy will consider other 2 zeros \n",
        "\n",
        "\n",
        "\n",
        "\n",
        "Smallest unit of picture ---- pixel\n",
        "\n",
        "\n",
        "Image management - powerful library - GAN\n",
        "                                                                    - OpenCV\n",
        "                                                                    \n",
        "                                                                    \n",
        "                                                                    \n",
        "  Open Computer Vision - OpenCV\n",
        "  Python version of OpenCV-  - \n",
        "  \n",
        "  \n",
        "  \n",
        "  \n",
        "  JavaScript code for colab to access camara\n",
        "  \n",
        "  \n",
        "  \n",
        "  REDHAT:\n",
        "  \n",
        "  $sudo pip3 install opencv-contrib-python\n",
        " For UBUNTU:  sudo apt install opencv*\n",
        "  "
      ]
    },
    {
      "cell_type": "code",
      "metadata": {
        "id": "l7WdFw7yoX5L",
        "colab_type": "code",
        "colab": {}
      },
      "source": [
        "import cv2\n",
        "import matplotlib.pyplot as plt"
      ],
      "execution_count": 0,
      "outputs": []
    },
    {
      "cell_type": "code",
      "metadata": {
        "id": "Ll6mam4RvBxH",
        "colab_type": "code",
        "colab": {
          "base_uri": "https://localhost:8080/",
          "height": 34
        },
        "outputId": "2bcd10ca-aa09-4fa6-b216-c15b67d70c53"
      },
      "source": [
        "# checking version\n",
        "cv2.__version__\n"
      ],
      "execution_count": 9,
      "outputs": [
        {
          "output_type": "execute_result",
          "data": {
            "text/plain": [
              "'3.4.3'"
            ]
          },
          "metadata": {
            "tags": []
          },
          "execution_count": 9
        }
      ]
    },
    {
      "cell_type": "code",
      "metadata": {
        "id": "nQwjYNYSxj3k",
        "colab_type": "code",
        "colab": {
          "base_uri": "https://localhost:8080/",
          "height": 850
        },
        "outputId": "741fc071-5ba1-4636-de6f-299b16827f88"
      },
      "source": [
        "# image reading\n",
        "img=cv2.imread('dog.jpg')\n",
        "img"
      ],
      "execution_count": 10,
      "outputs": [
        {
          "output_type": "execute_result",
          "data": {
            "text/plain": [
              "array([[[250, 250, 255],\n",
              "        [252, 252, 255],\n",
              "        [252, 253, 255],\n",
              "        ...,\n",
              "        [255, 253, 253],\n",
              "        [254, 251, 253],\n",
              "        [250, 252, 253]],\n",
              "\n",
              "       [[247, 247, 253],\n",
              "        [246, 247, 251],\n",
              "        [244, 245, 249],\n",
              "        ...,\n",
              "        [255, 254, 254],\n",
              "        [254, 252, 252],\n",
              "        [250, 252, 253]],\n",
              "\n",
              "       [[251, 252, 255],\n",
              "        [247, 248, 252],\n",
              "        [242, 245, 249],\n",
              "        ...,\n",
              "        [255, 255, 254],\n",
              "        [254, 252, 252],\n",
              "        [252, 251, 253]],\n",
              "\n",
              "       ...,\n",
              "\n",
              "       [[253, 250, 246],\n",
              "        [254, 251, 247],\n",
              "        [253, 251, 250],\n",
              "        ...,\n",
              "        [255, 255, 255],\n",
              "        [252, 254, 255],\n",
              "        [250, 254, 255]],\n",
              "\n",
              "       [[255, 255, 252],\n",
              "        [255, 255, 252],\n",
              "        [253, 255, 254],\n",
              "        ...,\n",
              "        [251, 255, 255],\n",
              "        [251, 255, 255],\n",
              "        [250, 255, 255]],\n",
              "\n",
              "       [[247, 254, 249],\n",
              "        [250, 255, 252],\n",
              "        [250, 255, 254],\n",
              "        ...,\n",
              "        [241, 249, 248],\n",
              "        [248, 255, 255],\n",
              "        [248, 255, 255]]], dtype=uint8)"
            ]
          },
          "metadata": {
            "tags": []
          },
          "execution_count": 10
        }
      ]
    },
    {
      "cell_type": "code",
      "metadata": {
        "id": "7LpDN3k6yR0_",
        "colab_type": "code",
        "colab": {
          "base_uri": "https://localhost:8080/",
          "height": 34
        },
        "outputId": "e8df9a3c-4a29-4084-f421-dae2183a348b"
      },
      "source": [
        "# print shape\n",
        "img.shape   # (height,width,colorChannel)  # color channel means BGR,RGB or anything else  color ch =0 means black/white"
      ],
      "execution_count": 11,
      "outputs": [
        {
          "output_type": "execute_result",
          "data": {
            "text/plain": [
              "(223, 226, 3)"
            ]
          },
          "metadata": {
            "tags": []
          },
          "execution_count": 11
        }
      ]
    },
    {
      "cell_type": "code",
      "metadata": {
        "id": "QXNX_WN8ypsE",
        "colab_type": "code",
        "colab": {
          "base_uri": "https://localhost:8080/",
          "height": 34
        },
        "outputId": "8b1b18f8-1a11-443c-ab2c-6e5c031ae3de"
      },
      "source": [
        "# open CV support BGR\n",
        "# Gan support RGP\n",
        "\n",
        "# We can share image/video using socket programming\n",
        "type(img)"
      ],
      "execution_count": 12,
      "outputs": [
        {
          "output_type": "execute_result",
          "data": {
            "text/plain": [
              "numpy.ndarray"
            ]
          },
          "metadata": {
            "tags": []
          },
          "execution_count": 12
        }
      ]
    },
    {
      "cell_type": "code",
      "metadata": {
        "id": "MFpfKhQ9zjVc",
        "colab_type": "code",
        "colab": {
          "base_uri": "https://localhost:8080/",
          "height": 231
        },
        "outputId": "e4600137-f5e9-4966-86d3-a9750ad87d71"
      },
      "source": [
        "# display image   ----ImageViewer is an infinite loop\n",
        "#from google.colab.patches import cv2_imshow\n",
        "\n",
        "\n",
        "#cv2.imshow('dog',img)     # Window will be opened\n",
        "\n",
        "# wait for window to close\n",
        "#cv2.waitKey(30)  # hold for 30 mili or micro seond\n",
        "#cv2.waitKey(0)   # Hold infinitely\n",
        "\n",
        "\n",
        "#plt.imshow(img)   # with matplotlib\n",
        "\n"
      ],
      "execution_count": 19,
      "outputs": [
        {
          "output_type": "error",
          "ename": "AttributeError",
          "evalue": "ignored",
          "traceback": [
            "\u001b[0;31m---------------------------------------------------------------------------\u001b[0m",
            "\u001b[0;31mAttributeError\u001b[0m                            Traceback (most recent call last)",
            "\u001b[0;32m<ipython-input-19-929c484fb099>\u001b[0m in \u001b[0;36m<module>\u001b[0;34m()\u001b[0m\n\u001b[1;32m      2\u001b[0m \u001b[0;34m\u001b[0m\u001b[0m\n\u001b[1;32m      3\u001b[0m \u001b[0;34m\u001b[0m\u001b[0m\n\u001b[0;32m----> 4\u001b[0;31m \u001b[0mcv2\u001b[0m\u001b[0;34m.\u001b[0m\u001b[0mcv2_imshow\u001b[0m\u001b[0;34m(\u001b[0m\u001b[0;34m'dog'\u001b[0m\u001b[0;34m,\u001b[0m\u001b[0mimg\u001b[0m\u001b[0;34m)\u001b[0m     \u001b[0;31m# Window will be opened\u001b[0m\u001b[0;34m\u001b[0m\u001b[0;34m\u001b[0m\u001b[0m\n\u001b[0m\u001b[1;32m      5\u001b[0m \u001b[0;34m\u001b[0m\u001b[0m\n\u001b[1;32m      6\u001b[0m \u001b[0;31m# wait for window to close\u001b[0m\u001b[0;34m\u001b[0m\u001b[0;34m\u001b[0m\u001b[0;34m\u001b[0m\u001b[0m\n",
            "\u001b[0;31mAttributeError\u001b[0m: module 'cv2.cv2' has no attribute 'cv2_imshow'"
          ]
        }
      ]
    },
    {
      "cell_type": "code",
      "metadata": {
        "id": "FyEUQkYs2Mp9",
        "colab_type": "code",
        "colab": {}
      },
      "source": [
        ""
      ],
      "execution_count": 0,
      "outputs": []
    },
    {
      "cell_type": "code",
      "metadata": {
        "id": "zYdaYCOq2MpL",
        "colab_type": "code",
        "colab": {
          "base_uri": "https://localhost:8080/",
          "height": 418
        },
        "outputId": "ec9a1a4c-4596-493e-9e2c-793478c3986a"
      },
      "source": [
        "!curl -o logo.png https://colab.research.google.com/img/colab_favicon_256px.png\n",
        "import cv2\n",
        "img = cv2.imread('dog.jpg', cv2.IMREAD_UNCHANGED)\n",
        "img\n",
        "cv2.imshow('dog2',img)"
      ],
      "execution_count": 25,
      "outputs": [
        {
          "output_type": "stream",
          "text": [
            "  % Total    % Received % Xferd  Average Speed   Time    Time     Time  Current\n",
            "                                 Dload  Upload   Total   Spent    Left  Speed\n",
            "\r  0     0    0     0    0     0      0      0 --:--:-- --:--:-- --:--:--     0\r100  5500  100  5500    0     0   107k      0 --:--:-- --:--:-- --:--:--  107k\n"
          ],
          "name": "stdout"
        },
        {
          "output_type": "error",
          "ename": "DisabledFunctionError",
          "evalue": "ignored",
          "traceback": [
            "\u001b[0;31m---------------------------------------------------------------------------\u001b[0m",
            "\u001b[0;31mDisabledFunctionError\u001b[0m                     Traceback (most recent call last)",
            "\u001b[0;32m<ipython-input-25-591b13b88f69>\u001b[0m in \u001b[0;36m<module>\u001b[0;34m()\u001b[0m\n\u001b[1;32m      3\u001b[0m \u001b[0mimg\u001b[0m \u001b[0;34m=\u001b[0m \u001b[0mcv2\u001b[0m\u001b[0;34m.\u001b[0m\u001b[0mimread\u001b[0m\u001b[0;34m(\u001b[0m\u001b[0;34m'dog.jpg'\u001b[0m\u001b[0;34m,\u001b[0m \u001b[0mcv2\u001b[0m\u001b[0;34m.\u001b[0m\u001b[0mIMREAD_UNCHANGED\u001b[0m\u001b[0;34m)\u001b[0m\u001b[0;34m\u001b[0m\u001b[0;34m\u001b[0m\u001b[0m\n\u001b[1;32m      4\u001b[0m \u001b[0mimg\u001b[0m\u001b[0;34m\u001b[0m\u001b[0;34m\u001b[0m\u001b[0m\n\u001b[0;32m----> 5\u001b[0;31m \u001b[0mcv2\u001b[0m\u001b[0;34m.\u001b[0m\u001b[0mimshow\u001b[0m\u001b[0;34m(\u001b[0m\u001b[0;34m'dog2'\u001b[0m\u001b[0;34m,\u001b[0m\u001b[0mimg\u001b[0m\u001b[0;34m)\u001b[0m\u001b[0;34m\u001b[0m\u001b[0;34m\u001b[0m\u001b[0m\n\u001b[0m",
            "\u001b[0;32m/usr/local/lib/python3.6/dist-packages/google/colab/_import_hooks/_cv2.py\u001b[0m in \u001b[0;36mwrapped\u001b[0;34m(*args, **kwargs)\u001b[0m\n\u001b[1;32m     50\u001b[0m   \u001b[0;32mdef\u001b[0m \u001b[0mwrapped\u001b[0m\u001b[0;34m(\u001b[0m\u001b[0;34m*\u001b[0m\u001b[0margs\u001b[0m\u001b[0;34m,\u001b[0m \u001b[0;34m**\u001b[0m\u001b[0mkwargs\u001b[0m\u001b[0;34m)\u001b[0m\u001b[0;34m:\u001b[0m\u001b[0;34m\u001b[0m\u001b[0;34m\u001b[0m\u001b[0m\n\u001b[1;32m     51\u001b[0m     \u001b[0;32mif\u001b[0m \u001b[0;32mnot\u001b[0m \u001b[0mos\u001b[0m\u001b[0;34m.\u001b[0m\u001b[0menviron\u001b[0m\u001b[0;34m.\u001b[0m\u001b[0mget\u001b[0m\u001b[0;34m(\u001b[0m\u001b[0menv_var\u001b[0m\u001b[0;34m,\u001b[0m \u001b[0;32mFalse\u001b[0m\u001b[0;34m)\u001b[0m\u001b[0;34m:\u001b[0m\u001b[0;34m\u001b[0m\u001b[0;34m\u001b[0m\u001b[0m\n\u001b[0;32m---> 52\u001b[0;31m       \u001b[0;32mraise\u001b[0m \u001b[0mDisabledFunctionError\u001b[0m\u001b[0;34m(\u001b[0m\u001b[0mmessage\u001b[0m\u001b[0;34m,\u001b[0m \u001b[0mname\u001b[0m \u001b[0;32mor\u001b[0m \u001b[0mfunc\u001b[0m\u001b[0;34m.\u001b[0m\u001b[0m__name__\u001b[0m\u001b[0;34m)\u001b[0m\u001b[0;34m\u001b[0m\u001b[0;34m\u001b[0m\u001b[0m\n\u001b[0m\u001b[1;32m     53\u001b[0m     \u001b[0;32mreturn\u001b[0m \u001b[0mfunc\u001b[0m\u001b[0;34m(\u001b[0m\u001b[0;34m*\u001b[0m\u001b[0margs\u001b[0m\u001b[0;34m,\u001b[0m \u001b[0;34m**\u001b[0m\u001b[0mkwargs\u001b[0m\u001b[0;34m)\u001b[0m\u001b[0;34m\u001b[0m\u001b[0;34m\u001b[0m\u001b[0m\n\u001b[1;32m     54\u001b[0m \u001b[0;34m\u001b[0m\u001b[0m\n",
            "\u001b[0;31mDisabledFunctionError\u001b[0m: cv2.imshow() is disabled in Colab, because it causes Jupyter sessions\nto crash; see https://github.com/jupyter/notebook/issues/3935.\nAs a substitution, consider using\n  from google.colab.patches import cv2_imshow\n"
          ]
        }
      ]
    },
    {
      "cell_type": "code",
      "metadata": {
        "id": "ac-paPrQ0W7O",
        "colab_type": "code",
        "colab": {}
      },
      "source": [
        "\n",
        "# 1 means image in same color channel\n",
        "# 0 means no color  -- black&white -- Gray image\n",
        "#-1 maintain image transparency\n",
        "cv2.imshow('dog2',img)\n",
        "cv2.imshow('dog',img[0:130,0:150])\n",
        "\n",
        "\n",
        "# Image Compression make big pic 4x4\n",
        "# Decompress it again\n",
        "# Zoom in the image at a particular area [area zoom]\n",
        "# Reverse: spot the area , other than that spot zoom other all\n",
        "\n"
      ],
      "execution_count": 0,
      "outputs": []
    },
    {
      "cell_type": "code",
      "metadata": {
        "id": "o0e_nsc26YqF",
        "colab_type": "code",
        "colab": {}
      },
      "source": [
        "# split into BGR\n",
        "x,y,z=cv2.split(img)\n",
        "cv2.show('dog1',x)\n",
        "cv2.show('dog2',y)\n",
        "cv2.show('dog3',z)\n",
        "\n",
        "\n",
        "# My image\n",
        "import numpy as np\n",
        "myimg=np.zeros((512,512))\n",
        "cv2.show('dog4',myimg)\n",
        "\n"
      ],
      "execution_count": 0,
      "outputs": []
    },
    {
      "cell_type": "markdown",
      "metadata": {
        "id": "yI4vASUG7h61",
        "colab_type": "text"
      },
      "source": [
        "Drawing Pattern as Image:--\n",
        "line, circle, square, \n",
        "\n",
        "(a,b)--------------------------(c,d)  -- 2 cordinates for line\n",
        "\n",
        "\n",
        "\n"
      ]
    },
    {
      "cell_type": "code",
      "metadata": {
        "id": "dvqTZ6Og7hey",
        "colab_type": "code",
        "colab": {}
      },
      "source": [
        "# to draw a line in image\n",
        "cv2..line(myimg,(0,0),(200,230),(0,0,255),3)\n",
        "cv2.rectangle(img,(50,50),(100,110),(255,0,0),2)\n",
        "cv2.rectangle(img,(50,50),(100,110),(255,0,0),-1)          #----- to fill the rectangle with color\n",
        "\n"
      ],
      "execution_count": 0,
      "outputs": []
    }
  ]
}
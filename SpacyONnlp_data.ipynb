{
  "nbformat": 4,
  "nbformat_minor": 0,
  "metadata": {
    "colab": {
      "name": "SpacyONnlp-data.ipynb",
      "version": "0.3.2",
      "provenance": [],
      "collapsed_sections": []
    },
    "kernelspec": {
      "name": "python3",
      "display_name": "Python 3"
    }
  },
  "cells": [
    {
      "cell_type": "code",
      "metadata": {
        "id": "CpyFHR5oeA3-",
        "colab_type": "code",
        "colab": {}
      },
      "source": [
        ""
      ],
      "execution_count": 0,
      "outputs": []
    },
    {
      "cell_type": "markdown",
      "metadata": {
        "id": "rzHNij_neJ4Q",
        "colab_type": "text"
      },
      "source": [
        "Spacy, textblob and nltk uses NLP-data ||\n",
        "adhoc-link --> in pub --> download from there"
      ]
    },
    {
      "cell_type": "code",
      "metadata": {
        "id": "FQ-QSMgueY3k",
        "colab_type": "code",
        "colab": {}
      },
      "source": [
        "import spacy"
      ],
      "execution_count": 0,
      "outputs": []
    },
    {
      "cell_type": "code",
      "metadata": {
        "id": "S_zCIb7OebO9",
        "colab_type": "code",
        "colab": {}
      },
      "source": [
        "# Language en--\n",
        "nlp=spacy.load('en')"
      ],
      "execution_count": 0,
      "outputs": []
    },
    {
      "cell_type": "code",
      "metadata": {
        "id": "VVjhAmFoeqpq",
        "colab_type": "code",
        "colab": {
          "base_uri": "https://localhost:8080/",
          "height": 672
        },
        "outputId": "f7997078-fc75-4dc2-f113-2ee9bc561435"
      },
      "source": [
        "data=\"Hello world i love to play casio ! Love Music my going \"\n",
        "new_data=nlp(data)  # Automatic tokenize\n",
        "for i in new_data:\n",
        "  print(\"##########################################\")\n",
        "  print(i,\"---lemma of this word is---\",i.lemma_)\n",
        "  print(i,\"---POS : \",i.pos_)"
      ],
      "execution_count": 11,
      "outputs": [
        {
          "output_type": "stream",
          "text": [
            "##########################################\n",
            "Hello ---lemma of this word is--- hello\n",
            "Hello ---POS :  INTJ\n",
            "##########################################\n",
            "world ---lemma of this word is--- world\n",
            "world ---POS :  NOUN\n",
            "##########################################\n",
            "i ---lemma of this word is--- i\n",
            "i ---POS :  PRON\n",
            "##########################################\n",
            "love ---lemma of this word is--- love\n",
            "love ---POS :  VERB\n",
            "##########################################\n",
            "to ---lemma of this word is--- to\n",
            "to ---POS :  PART\n",
            "##########################################\n",
            "play ---lemma of this word is--- play\n",
            "play ---POS :  VERB\n",
            "##########################################\n",
            "casio ---lemma of this word is--- casio\n",
            "casio ---POS :  NOUN\n",
            "##########################################\n",
            "! ---lemma of this word is--- !\n",
            "! ---POS :  PUNCT\n",
            "##########################################\n",
            "Love ---lemma of this word is--- love\n",
            "Love ---POS :  NOUN\n",
            "##########################################\n",
            "Music ---lemma of this word is--- music\n",
            "Music ---POS :  NOUN\n",
            "##########################################\n",
            "my ---lemma of this word is--- -PRON-\n",
            "my ---POS :  DET\n",
            "##########################################\n",
            "going ---lemma of this word is--- going\n",
            "going ---POS :  NOUN\n"
          ],
          "name": "stdout"
        }
      ]
    },
    {
      "cell_type": "code",
      "metadata": {
        "id": "uYi-EnhBfZRG",
        "colab_type": "code",
        "colab": {}
      },
      "source": [
        ""
      ],
      "execution_count": 0,
      "outputs": []
    }
  ]
}
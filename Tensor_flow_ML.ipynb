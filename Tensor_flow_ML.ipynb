{
  "nbformat": 4,
  "nbformat_minor": 0,
  "metadata": {
    "colab": {
      "name": "Tensor-flow-ML.ipynb",
      "version": "0.3.2",
      "provenance": [],
      "collapsed_sections": []
    },
    "kernelspec": {
      "name": "python3",
      "display_name": "Python 3"
    }
  },
  "cells": [
    {
      "cell_type": "code",
      "metadata": {
        "id": "tf6inB10mfIH",
        "colab_type": "code",
        "colab": {}
      },
      "source": [
        "import tensorflow as tf"
      ],
      "execution_count": 0,
      "outputs": []
    },
    {
      "cell_type": "code",
      "metadata": {
        "id": "ZuZFUsjNmkel",
        "colab_type": "code",
        "colab": {
          "base_uri": "https://localhost:8080/",
          "height": 35
        },
        "outputId": "e9202790-f2a6-4275-b17f-6b2767cd7228"
      },
      "source": [
        "# to assign fix value in tensorflow we need to define constant\n",
        "x=tf.constant(30)\n",
        "type(x)"
      ],
      "execution_count": 44,
      "outputs": [
        {
          "output_type": "execute_result",
          "data": {
            "text/plain": [
              "tensorflow.python.framework.ops.Tensor"
            ]
          },
          "metadata": {
            "tags": []
          },
          "execution_count": 44
        }
      ]
    },
    {
      "cell_type": "code",
      "metadata": {
        "id": "RjuDeimImxKl",
        "colab_type": "code",
        "colab": {
          "base_uri": "https://localhost:8080/",
          "height": 35
        },
        "outputId": "414c384c-1d5d-4237-8b2c-17867253f800"
      },
      "source": [
        "x1=tf.constant([3,5,66,88]) # multi valued constant\n",
        "type(x1)"
      ],
      "execution_count": 45,
      "outputs": [
        {
          "output_type": "execute_result",
          "data": {
            "text/plain": [
              "tensorflow.python.framework.ops.Tensor"
            ]
          },
          "metadata": {
            "tags": []
          },
          "execution_count": 45
        }
      ]
    },
    {
      "cell_type": "code",
      "metadata": {
        "id": "VPYa2OjJnBmB",
        "colab_type": "code",
        "colab": {}
      },
      "source": [
        "y=tf.constant(20)"
      ],
      "execution_count": 0,
      "outputs": []
    },
    {
      "cell_type": "markdown",
      "metadata": {
        "id": "MXBxSFOAnowY",
        "colab_type": "text"
      },
      "source": [
        "Same thing is :\n",
        "NP-numpyarray\n",
        "Pandas- dataframe\n",
        "tensorflow-tensor\n",
        "spark-RDD"
      ]
    },
    {
      "cell_type": "code",
      "metadata": {
        "id": "MFBEZfssn9dI",
        "colab_type": "code",
        "colab": {
          "base_uri": "https://localhost:8080/",
          "height": 54
        },
        "outputId": "d6509183-6eb3-40c8-f3fb-a733bb5c9577"
      },
      "source": [
        "z=x+y # new tensor .... eqn compile and store and wait for resources CPU, GPU, TPU\n",
        "print(z) # ans didn't come\n",
        "type(z)"
      ],
      "execution_count": 47,
      "outputs": [
        {
          "output_type": "stream",
          "text": [
            "Tensor(\"add_8:0\", shape=(), dtype=int32)\n"
          ],
          "name": "stdout"
        },
        {
          "output_type": "execute_result",
          "data": {
            "text/plain": [
              "tensorflow.python.framework.ops.Tensor"
            ]
          },
          "metadata": {
            "tags": []
          },
          "execution_count": 47
        }
      ]
    },
    {
      "cell_type": "code",
      "metadata": {
        "id": "AlFkq5aboTaf",
        "colab_type": "code",
        "colab": {
          "base_uri": "https://localhost:8080/",
          "height": 54
        },
        "outputId": "11fef8c0-2347-46d1-e9c2-f96b38cd7d15"
      },
      "source": [
        "z1=tf.add(x,y)\n",
        "print(z1)  # We stop it from executing the mathematical equation\n",
        "type(z1)"
      ],
      "execution_count": 48,
      "outputs": [
        {
          "output_type": "stream",
          "text": [
            "Tensor(\"Add_9:0\", shape=(), dtype=int32)\n"
          ],
          "name": "stdout"
        },
        {
          "output_type": "execute_result",
          "data": {
            "text/plain": [
              "tensorflow.python.framework.ops.Tensor"
            ]
          },
          "metadata": {
            "tags": []
          },
          "execution_count": 48
        }
      ]
    },
    {
      "cell_type": "code",
      "metadata": {
        "id": "5U7P9zu9o3Kk",
        "colab_type": "code",
        "colab": {}
      },
      "source": [
        "# variable label namespace \n",
        "# Memory outbounding - provision space [min requirement for prog]\n",
        "#Shows full resources to new user\n",
        "# in google colab whoever connect shows same storage to all --- we combine and use some storage -------not actually this much storage for all\n"
      ],
      "execution_count": 0,
      "outputs": []
    },
    {
      "cell_type": "code",
      "metadata": {
        "id": "ygUX-lonz3Qx",
        "colab_type": "code",
        "colab": {}
      },
      "source": [
        "# Now time for assigning resources to our equation\n",
        "sess=tf.Session() # Connect cpu,tpu, gpu"
      ],
      "execution_count": 0,
      "outputs": []
    },
    {
      "cell_type": "code",
      "metadata": {
        "id": "7lqEcA0M0KOk",
        "colab_type": "code",
        "colab": {
          "base_uri": "https://localhost:8080/",
          "height": 35
        },
        "outputId": "e52fdfa9-a248-4977-b2fb-b4b433abe268"
      },
      "source": [
        "# Now we cwn run our eqn\n",
        "output=sess.run(z)\n",
        "output"
      ],
      "execution_count": 50,
      "outputs": [
        {
          "output_type": "execute_result",
          "data": {
            "text/plain": [
              "50"
            ]
          },
          "metadata": {
            "tags": []
          },
          "execution_count": 50
        }
      ]
    },
    {
      "cell_type": "code",
      "metadata": {
        "id": "A3J-uDLp0U1Z",
        "colab_type": "code",
        "colab": {}
      },
      "source": [
        "# closing session\n",
        "sess.close()"
      ],
      "execution_count": 0,
      "outputs": []
    },
    {
      "cell_type": "code",
      "metadata": {
        "id": "BsnxLaHj0cY3",
        "colab_type": "code",
        "colab": {
          "base_uri": "https://localhost:8080/",
          "height": 35
        },
        "outputId": "cb830cfc-f37f-483b-b899-8b4c3e190bfa"
      },
      "source": [
        "# we can perform same task in another way where we don't have to close session\n",
        "with tf.Session() as sess:\n",
        "  output1=sess.run(z)\n",
        "output1"
      ],
      "execution_count": 52,
      "outputs": [
        {
          "output_type": "execute_result",
          "data": {
            "text/plain": [
              "50"
            ]
          },
          "metadata": {
            "tags": []
          },
          "execution_count": 52
        }
      ]
    },
    {
      "cell_type": "code",
      "metadata": {
        "id": "jLQyLxLE0vCI",
        "colab_type": "code",
        "colab": {}
      },
      "source": [
        "with  tf.Session() as sess:\n",
        "  output1=sess.run(z)\n",
        "  tf.summary.FileWriter('graph',sess.graph)\n",
        "  \n",
        "#slashml.blogspot.com"
      ],
      "execution_count": 0,
      "outputs": []
    },
    {
      "cell_type": "code",
      "metadata": {
        "id": "fd_Qduxn14JQ",
        "colab_type": "code",
        "colab": {}
      },
      "source": [
        ""
      ],
      "execution_count": 0,
      "outputs": []
    },
    {
      "cell_type": "markdown",
      "metadata": {
        "id": "GtBQn1PT3TIT",
        "colab_type": "text"
      },
      "source": [
        "Placeholder"
      ]
    },
    {
      "cell_type": "code",
      "metadata": {
        "id": "UtRTcmRV3YlS",
        "colab_type": "code",
        "colab": {}
      },
      "source": [
        "p1=tf.placeholder(tf.int32)"
      ],
      "execution_count": 0,
      "outputs": []
    },
    {
      "cell_type": "code",
      "metadata": {
        "id": "WiZJXlGa3gBM",
        "colab_type": "code",
        "colab": {}
      },
      "source": [
        "# placeholder2\n",
        "p2=tf.placeholder(tf.int32)\n",
        "# adding values\n",
        "sum1=tf.add(p1,p2)"
      ],
      "execution_count": 0,
      "outputs": []
    },
    {
      "cell_type": "code",
      "metadata": {
        "id": "tN5jgKiS39O0",
        "colab_type": "code",
        "colab": {}
      },
      "source": [
        "sum2=p1+p2\n"
      ],
      "execution_count": 0,
      "outputs": []
    },
    {
      "cell_type": "code",
      "metadata": {
        "id": "tm2d3BNr4FkK",
        "colab_type": "code",
        "colab": {
          "base_uri": "https://localhost:8080/",
          "height": 35
        },
        "outputId": "a23c9aee-e445-484d-9758-975c30de8c9a"
      },
      "source": [
        "# create session\n",
        "with tf.Session() as sess:\n",
        "  output2=sess.run(sum1,{p1:[3,6],p2:[5,8]})\n",
        "output2"
      ],
      "execution_count": 59,
      "outputs": [
        {
          "output_type": "execute_result",
          "data": {
            "text/plain": [
              "array([ 8, 14], dtype=int32)"
            ]
          },
          "metadata": {
            "tags": []
          },
          "execution_count": 59
        }
      ]
    },
    {
      "cell_type": "code",
      "metadata": {
        "id": "n8YxAWpR4i6e",
        "colab_type": "code",
        "colab": {}
      },
      "source": [
        "'''tensorflow\n",
        " -poet       tensorflow-for-poets---for object detection\n",
        " -posenet    [Contribute to define object [for object detection]] \n",
        " - yolo\n",
        " -CNN\n",
        " \n",
        " '''"
      ],
      "execution_count": 0,
      "outputs": []
    }
  ]
}